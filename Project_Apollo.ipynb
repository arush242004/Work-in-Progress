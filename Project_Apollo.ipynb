{
  "nbformat": 4,
  "nbformat_minor": 0,
  "metadata": {
    "colab": {
      "provenance": []
    },
    "kernelspec": {
      "name": "python3",
      "display_name": "Python 3"
    },
    "language_info": {
      "name": "python"
    }
  },
  "cells": [
    {
      "cell_type": "markdown",
      "source": [
        "# **STEP-1**: Creating the project in Cookiecutter and on our local PC"
      ],
      "metadata": {
        "id": "rKuHoRRs_bF-"
      }
    },
    {
      "cell_type": "code",
      "execution_count": 1,
      "metadata": {
        "id": "CEyFmBNb3Cbj",
        "colab": {
          "base_uri": "https://localhost:8080/"
        },
        "outputId": "c3bb8cd7-a97e-4f7c-cd5e-579878680132"
      },
      "outputs": [
        {
          "output_type": "stream",
          "name": "stdout",
          "text": [
            "Collecting cookiecutter\n",
            "  Downloading cookiecutter-2.6.0-py3-none-any.whl.metadata (7.3 kB)\n",
            "Collecting binaryornot>=0.4.4 (from cookiecutter)\n",
            "  Downloading binaryornot-0.4.4-py2.py3-none-any.whl.metadata (6.0 kB)\n",
            "Requirement already satisfied: Jinja2<4.0.0,>=2.7 in /usr/local/lib/python3.11/dist-packages (from cookiecutter) (3.1.5)\n",
            "Requirement already satisfied: click<9.0.0,>=7.0 in /usr/local/lib/python3.11/dist-packages (from cookiecutter) (8.1.8)\n",
            "Requirement already satisfied: pyyaml>=5.3.1 in /usr/local/lib/python3.11/dist-packages (from cookiecutter) (6.0.2)\n",
            "Requirement already satisfied: python-slugify>=4.0.0 in /usr/local/lib/python3.11/dist-packages (from cookiecutter) (8.0.4)\n",
            "Requirement already satisfied: requests>=2.23.0 in /usr/local/lib/python3.11/dist-packages (from cookiecutter) (2.32.3)\n",
            "Collecting arrow (from cookiecutter)\n",
            "  Downloading arrow-1.3.0-py3-none-any.whl.metadata (7.5 kB)\n",
            "Requirement already satisfied: rich in /usr/local/lib/python3.11/dist-packages (from cookiecutter) (13.9.4)\n",
            "Requirement already satisfied: chardet>=3.0.2 in /usr/local/lib/python3.11/dist-packages (from binaryornot>=0.4.4->cookiecutter) (5.2.0)\n",
            "Requirement already satisfied: MarkupSafe>=2.0 in /usr/local/lib/python3.11/dist-packages (from Jinja2<4.0.0,>=2.7->cookiecutter) (3.0.2)\n",
            "Requirement already satisfied: text-unidecode>=1.3 in /usr/local/lib/python3.11/dist-packages (from python-slugify>=4.0.0->cookiecutter) (1.3)\n",
            "Requirement already satisfied: charset-normalizer<4,>=2 in /usr/local/lib/python3.11/dist-packages (from requests>=2.23.0->cookiecutter) (3.4.1)\n",
            "Requirement already satisfied: idna<4,>=2.5 in /usr/local/lib/python3.11/dist-packages (from requests>=2.23.0->cookiecutter) (3.10)\n",
            "Requirement already satisfied: urllib3<3,>=1.21.1 in /usr/local/lib/python3.11/dist-packages (from requests>=2.23.0->cookiecutter) (2.3.0)\n",
            "Requirement already satisfied: certifi>=2017.4.17 in /usr/local/lib/python3.11/dist-packages (from requests>=2.23.0->cookiecutter) (2025.1.31)\n",
            "Requirement already satisfied: python-dateutil>=2.7.0 in /usr/local/lib/python3.11/dist-packages (from arrow->cookiecutter) (2.8.2)\n",
            "Collecting types-python-dateutil>=2.8.10 (from arrow->cookiecutter)\n",
            "  Downloading types_python_dateutil-2.9.0.20241206-py3-none-any.whl.metadata (2.1 kB)\n",
            "Requirement already satisfied: markdown-it-py>=2.2.0 in /usr/local/lib/python3.11/dist-packages (from rich->cookiecutter) (3.0.0)\n",
            "Requirement already satisfied: pygments<3.0.0,>=2.13.0 in /usr/local/lib/python3.11/dist-packages (from rich->cookiecutter) (2.18.0)\n",
            "Requirement already satisfied: mdurl~=0.1 in /usr/local/lib/python3.11/dist-packages (from markdown-it-py>=2.2.0->rich->cookiecutter) (0.1.2)\n",
            "Requirement already satisfied: six>=1.5 in /usr/local/lib/python3.11/dist-packages (from python-dateutil>=2.7.0->arrow->cookiecutter) (1.17.0)\n",
            "Downloading cookiecutter-2.6.0-py3-none-any.whl (39 kB)\n",
            "Downloading binaryornot-0.4.4-py2.py3-none-any.whl (9.0 kB)\n",
            "Downloading arrow-1.3.0-py3-none-any.whl (66 kB)\n",
            "\u001b[2K   \u001b[90m━━━━━━━━━━━━━━━━━━━━━━━━━━━━━━━━━━━━━━━━\u001b[0m \u001b[32m66.4/66.4 kB\u001b[0m \u001b[31m2.6 MB/s\u001b[0m eta \u001b[36m0:00:00\u001b[0m\n",
            "\u001b[?25hDownloading types_python_dateutil-2.9.0.20241206-py3-none-any.whl (14 kB)\n",
            "Installing collected packages: types-python-dateutil, binaryornot, arrow, cookiecutter\n",
            "Successfully installed arrow-1.3.0 binaryornot-0.4.4 cookiecutter-2.6.0 types-python-dateutil-2.9.0.20241206\n"
          ]
        }
      ],
      "source": [
        "!pip install cookiecutter"
      ]
    },
    {
      "cell_type": "code",
      "source": [
        "!pip install cookiecutter-data-science"
      ],
      "metadata": {
        "id": "XZwVyO3i5QJ8",
        "colab": {
          "base_uri": "https://localhost:8080/"
        },
        "outputId": "a320220c-5b3f-47c8-d501-a561033f49fb"
      },
      "execution_count": 2,
      "outputs": [
        {
          "output_type": "stream",
          "name": "stdout",
          "text": [
            "Collecting cookiecutter-data-science\n",
            "  Downloading cookiecutter_data_science-2.0.1-py3-none-any.whl.metadata (6.4 kB)\n",
            "Requirement already satisfied: click in /usr/local/lib/python3.11/dist-packages (from cookiecutter-data-science) (8.1.8)\n",
            "Requirement already satisfied: cookiecutter in /usr/local/lib/python3.11/dist-packages (from cookiecutter-data-science) (2.6.0)\n",
            "Requirement already satisfied: binaryornot>=0.4.4 in /usr/local/lib/python3.11/dist-packages (from cookiecutter->cookiecutter-data-science) (0.4.4)\n",
            "Requirement already satisfied: Jinja2<4.0.0,>=2.7 in /usr/local/lib/python3.11/dist-packages (from cookiecutter->cookiecutter-data-science) (3.1.5)\n",
            "Requirement already satisfied: pyyaml>=5.3.1 in /usr/local/lib/python3.11/dist-packages (from cookiecutter->cookiecutter-data-science) (6.0.2)\n",
            "Requirement already satisfied: python-slugify>=4.0.0 in /usr/local/lib/python3.11/dist-packages (from cookiecutter->cookiecutter-data-science) (8.0.4)\n",
            "Requirement already satisfied: requests>=2.23.0 in /usr/local/lib/python3.11/dist-packages (from cookiecutter->cookiecutter-data-science) (2.32.3)\n",
            "Requirement already satisfied: arrow in /usr/local/lib/python3.11/dist-packages (from cookiecutter->cookiecutter-data-science) (1.3.0)\n",
            "Requirement already satisfied: rich in /usr/local/lib/python3.11/dist-packages (from cookiecutter->cookiecutter-data-science) (13.9.4)\n",
            "Requirement already satisfied: chardet>=3.0.2 in /usr/local/lib/python3.11/dist-packages (from binaryornot>=0.4.4->cookiecutter->cookiecutter-data-science) (5.2.0)\n",
            "Requirement already satisfied: MarkupSafe>=2.0 in /usr/local/lib/python3.11/dist-packages (from Jinja2<4.0.0,>=2.7->cookiecutter->cookiecutter-data-science) (3.0.2)\n",
            "Requirement already satisfied: text-unidecode>=1.3 in /usr/local/lib/python3.11/dist-packages (from python-slugify>=4.0.0->cookiecutter->cookiecutter-data-science) (1.3)\n",
            "Requirement already satisfied: charset-normalizer<4,>=2 in /usr/local/lib/python3.11/dist-packages (from requests>=2.23.0->cookiecutter->cookiecutter-data-science) (3.4.1)\n",
            "Requirement already satisfied: idna<4,>=2.5 in /usr/local/lib/python3.11/dist-packages (from requests>=2.23.0->cookiecutter->cookiecutter-data-science) (3.10)\n",
            "Requirement already satisfied: urllib3<3,>=1.21.1 in /usr/local/lib/python3.11/dist-packages (from requests>=2.23.0->cookiecutter->cookiecutter-data-science) (2.3.0)\n",
            "Requirement already satisfied: certifi>=2017.4.17 in /usr/local/lib/python3.11/dist-packages (from requests>=2.23.0->cookiecutter->cookiecutter-data-science) (2025.1.31)\n",
            "Requirement already satisfied: python-dateutil>=2.7.0 in /usr/local/lib/python3.11/dist-packages (from arrow->cookiecutter->cookiecutter-data-science) (2.8.2)\n",
            "Requirement already satisfied: types-python-dateutil>=2.8.10 in /usr/local/lib/python3.11/dist-packages (from arrow->cookiecutter->cookiecutter-data-science) (2.9.0.20241206)\n",
            "Requirement already satisfied: markdown-it-py>=2.2.0 in /usr/local/lib/python3.11/dist-packages (from rich->cookiecutter->cookiecutter-data-science) (3.0.0)\n",
            "Requirement already satisfied: pygments<3.0.0,>=2.13.0 in /usr/local/lib/python3.11/dist-packages (from rich->cookiecutter->cookiecutter-data-science) (2.18.0)\n",
            "Requirement already satisfied: mdurl~=0.1 in /usr/local/lib/python3.11/dist-packages (from markdown-it-py>=2.2.0->rich->cookiecutter->cookiecutter-data-science) (0.1.2)\n",
            "Requirement already satisfied: six>=1.5 in /usr/local/lib/python3.11/dist-packages (from python-dateutil>=2.7.0->arrow->cookiecutter->cookiecutter-data-science) (1.17.0)\n",
            "Downloading cookiecutter_data_science-2.0.1-py3-none-any.whl (8.3 kB)\n",
            "Installing collected packages: cookiecutter-data-science\n",
            "Successfully installed cookiecutter-data-science-2.0.1\n"
          ]
        }
      ]
    },
    {
      "cell_type": "code",
      "source": [
        "import ccds"
      ],
      "metadata": {
        "id": "B-I631OM6CJO"
      },
      "execution_count": 3,
      "outputs": []
    },
    {
      "cell_type": "code",
      "source": [
        "import os"
      ],
      "metadata": {
        "id": "n9Zox-MQ6pe0"
      },
      "execution_count": 5,
      "outputs": []
    },
    {
      "cell_type": "code",
      "source": [
        "os.makedirs(\"sitarmusicrnn\", exist_ok=True)\n",
        "print('Directory titled \"SitarMusicRNN\" created successfully')"
      ],
      "metadata": {
        "id": "Jv1IokwC-WSV",
        "colab": {
          "base_uri": "https://localhost:8080/"
        },
        "outputId": "aa1a74fb-f876-42ff-802e-9cfe9fa35315"
      },
      "execution_count": 37,
      "outputs": [
        {
          "output_type": "stream",
          "name": "stdout",
          "text": [
            "Directory titled \"SitarMusicRNN\" created successfully\n"
          ]
        }
      ]
    },
    {
      "cell_type": "markdown",
      "source": [
        "# **STEP-2**: Uploading our music files into our newly created directory\n",
        "\n",
        "(I just did this manually lmao)"
      ],
      "metadata": {
        "id": "p9lsvv9W_lrj"
      }
    },
    {
      "cell_type": "markdown",
      "source": [
        "# **We now check our directory for uploaded files.**"
      ],
      "metadata": {
        "id": "617NQlBJHuMW"
      }
    },
    {
      "cell_type": "markdown",
      "source": [
        "The files weren't being uploaded to the current session. So I checked the working directory where they were being uploaded to."
      ],
      "metadata": {
        "id": "YtiG9E1QRGtj"
      }
    },
    {
      "cell_type": "code",
      "source": [
        "import os\n",
        "\n",
        "# Check the correct directory name (lowercase)\n",
        "raw_data_path = 'sitarmusicrnn/data/raw'\n",
        "try:\n",
        "    # Create the directory if it doesn't exist yet\n",
        "    os.makedirs(raw_data_path, exist_ok=True)\n",
        "\n",
        "    # Check for files\n",
        "    files = os.listdir(raw_data_path)\n",
        "    print(f\"Found {len(files)} files in {raw_data_path}\")\n",
        "\n",
        "    # Print details about the files\n",
        "    wav_files = [f for f in files if f.endswith('.wav')]\n",
        "    print(f\"Of these, {len(wav_files)} are WAV files\")\n",
        "\n",
        "    # Show some file details\n",
        "    for i, filename in enumerate(wav_files[:5]):  # Show just first 5\n",
        "        file_path = os.path.join(raw_data_path, filename)\n",
        "        file_size_mb = os.path.getsize(file_path) / (1024 * 1024)\n",
        "        print(f\"{i+1}. {filename} ({file_size_mb:.2f} MB)\")\n",
        "\n",
        "    if len(wav_files) > 5:\n",
        "        print(f\"... and {len(wav_files) - 5} more WAV files\")\n",
        "\n",
        "except Exception as e:\n",
        "    print(f\"Error when trying to list files: {e}\")"
      ],
      "metadata": {
        "colab": {
          "base_uri": "https://localhost:8080/"
        },
        "id": "FQ7ov1KaRBHT",
        "outputId": "ee27ca69-6960-49eb-9e5f-c33f7af3346a"
      },
      "execution_count": 1,
      "outputs": [
        {
          "output_type": "stream",
          "name": "stdout",
          "text": [
            "Found 14 files in sitarmusicrnn/data/raw\n",
            "Of these, 13 are WAV files\n",
            "1. Kautilya.wav (51.51 MB)\n",
            "2. Tandavam.wav (2.00 MB)\n",
            "3. Saraswati's Sitar.wav (29.00 MB)\n",
            "4. Chanakya.wav (51.87 MB)\n",
            "5. Shiv Kailash.wav (27.00 MB)\n",
            "... and 8 more WAV files\n"
          ]
        }
      ]
    },
    {
      "cell_type": "code",
      "source": [
        "os.chdir('/content/sitarmusicrnn')"
      ],
      "metadata": {
        "id": "Jc021N1mUGpn"
      },
      "execution_count": 2,
      "outputs": []
    },
    {
      "cell_type": "code",
      "source": [
        "current_directory = os.getcwd()\n",
        "print(f\"Current Working Directory: {current_directory}\")"
      ],
      "metadata": {
        "colab": {
          "base_uri": "https://localhost:8080/"
        },
        "id": "uiY4qnLGUnbB",
        "outputId": "f695c8bd-f47c-4e0a-fd59-d26101b4b0d8"
      },
      "execution_count": 3,
      "outputs": [
        {
          "output_type": "stream",
          "name": "stdout",
          "text": [
            "Current Working Directory: /content/sitarmusicrnn\n"
          ]
        }
      ]
    },
    {
      "cell_type": "markdown",
      "source": [
        "Perfect! We are now indeed working in the Cookiecutter-like directory here."
      ],
      "metadata": {
        "id": "D4CA37SQUtiL"
      }
    },
    {
      "cell_type": "code",
      "source": [],
      "metadata": {
        "id": "8Zq2Q-u4Ura5"
      },
      "execution_count": null,
      "outputs": []
    }
  ]
}